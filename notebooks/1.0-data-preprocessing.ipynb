{
  "cells": [
    {
      "cell_type": "markdown",
      "metadata": {
        "id": "eTg-u2ZreI3p"
      },
      "source": [
        "# <center><font color = '#DF9166' size = 20 center> **Data Preprocessing**</font></center>\n"
      ]
    },
    {
      "cell_type": "markdown",
      "metadata": {
        "id": "uKoXPbk_eMbe"
      },
      "source": [
        "\n",
        "## <font color = '#DF9166' size=6>**Table of content**<font/><a class = 'anchor' id = 'introduction'/>"
      ]
    },
    {
      "cell_type": "markdown",
      "metadata": {
        "id": "B81Qqee7eGea"
      },
      "source": [
        "1. [**Import Libraries**](#import)\n",
        "2. [**Data Loading**](#data_loading)\n",
        "3. [**Data Inspection**](#data_inspection)\n",
        "4. [**Data Preprocessing**](#data_preprocessing)"
      ]
    },
    {
      "cell_type": "markdown",
      "metadata": {
        "id": "_RkwgtESeUG0"
      },
      "source": [
        "## <font color = '#DF9166' size=6>**Import Libraries**<font/><a class = 'anchor' id = 'import'/>\n"
      ]
    },
    {
      "cell_type": "code",
      "execution_count": 1,
      "metadata": {},
      "outputs": [],
      "source": [
        "import os\n",
        "import sys\n",
        "import numpy as np\n",
        "import pandas as pd\n",
        "import seaborn as sns\n",
        "import matplotlib.pyplot as plt\n",
        "from scipy.stats import zscore\n",
        "from IPython.display import display"
      ]
    },
    {
      "cell_type": "code",
      "execution_count": 2,
      "metadata": {},
      "outputs": [],
      "source": [
        "import warnings\n",
        "\n",
        "warnings.filterwarnings(\"ignore\")"
      ]
    },
    {
      "cell_type": "code",
      "execution_count": 3,
      "metadata": {
        "id": "EPsSfEzvecfS"
      },
      "outputs": [],
      "source": [
        "sns.set_style(\"whitegrid\")\n",
        "pd.set_option(\"display.max_colwidth\", None)\n",
        "pd.set_option(\"display.max_columns\", None)"
      ]
    },
    {
      "cell_type": "code",
      "execution_count": 4,
      "metadata": {
        "id": "0sCONDQtbR-u"
      },
      "outputs": [],
      "source": [
        "sys.path.append(os.path.abspath(os.path.pardir))\n",
        "from scripts.preprocess_data import FinancialDataProcessor"
      ]
    },
    {
      "cell_type": "markdown",
      "metadata": {},
      "source": [
        "## <font color = '#DF9166' size=6>**Data Loading**<font/><a class = 'anchor' id = 'data_loading'/>\n"
      ]
    },
    {
      "cell_type": "code",
      "execution_count": 27,
      "metadata": {},
      "outputs": [
        {
          "name": "stdout",
          "output_type": "stream",
          "text": [
            "Initialized processor for TSLA, BND, SPY from 2015-01-01 to 2025-01-31.\n"
          ]
        }
      ],
      "source": [
        "# Initialize the processor\n",
        "processor = FinancialDataProcessor([\"TSLA\", \"BND\", \"SPY\"], \"2015-01-01\", \"2025-01-31\")"
      ]
    },
    {
      "cell_type": "code",
      "execution_count": 28,
      "metadata": {},
      "outputs": [
        {
          "name": "stdout",
          "output_type": "stream",
          "text": [
            "Fetching data from Yahoo Finance...\n",
            "Downloading data for TSLA...\n"
          ]
        },
        {
          "name": "stderr",
          "output_type": "stream",
          "text": [
            "[*********************100%***********************]  1 of 1 completed\n",
            "[*********************100%***********************]  1 of 1 completed"
          ]
        },
        {
          "name": "stdout",
          "output_type": "stream",
          "text": [
            "Downloading data for BND...\n",
            "Downloading data for SPY...\n"
          ]
        },
        {
          "name": "stderr",
          "output_type": "stream",
          "text": [
            "\n",
            "[*********************100%***********************]  1 of 1 completed"
          ]
        },
        {
          "name": "stdout",
          "output_type": "stream",
          "text": [
            "Data fetching complete.\n"
          ]
        },
        {
          "name": "stderr",
          "output_type": "stream",
          "text": [
            "\n"
          ]
        }
      ],
      "source": [
        "# Fetch data\n",
        "processor.fetch_data()"
      ]
    },
    {
      "cell_type": "code",
      "execution_count": 29,
      "metadata": {},
      "outputs": [
        {
          "name": "stdout",
          "output_type": "stream",
          "text": [
            "\n",
            "TSLA data:\n"
          ]
        },
        {
          "data": {
            "text/html": [
              "<div>\n",
              "<style scoped>\n",
              "    .dataframe tbody tr th:only-of-type {\n",
              "        vertical-align: middle;\n",
              "    }\n",
              "\n",
              "    .dataframe tbody tr th {\n",
              "        vertical-align: top;\n",
              "    }\n",
              "\n",
              "    .dataframe thead tr th {\n",
              "        text-align: left;\n",
              "    }\n",
              "\n",
              "    .dataframe thead tr:last-of-type th {\n",
              "        text-align: right;\n",
              "    }\n",
              "</style>\n",
              "<table border=\"1\" class=\"dataframe\">\n",
              "  <thead>\n",
              "    <tr>\n",
              "      <th>Price</th>\n",
              "      <th>Close</th>\n",
              "      <th>High</th>\n",
              "      <th>Low</th>\n",
              "      <th>Open</th>\n",
              "      <th>Volume</th>\n",
              "    </tr>\n",
              "    <tr>\n",
              "      <th>Ticker</th>\n",
              "      <th>TSLA</th>\n",
              "      <th>TSLA</th>\n",
              "      <th>TSLA</th>\n",
              "      <th>TSLA</th>\n",
              "      <th>TSLA</th>\n",
              "    </tr>\n",
              "    <tr>\n",
              "      <th>Date</th>\n",
              "      <th></th>\n",
              "      <th></th>\n",
              "      <th></th>\n",
              "      <th></th>\n",
              "      <th></th>\n",
              "    </tr>\n",
              "  </thead>\n",
              "  <tbody>\n",
              "    <tr>\n",
              "      <th>2015-01-02</th>\n",
              "      <td>14.620667</td>\n",
              "      <td>14.883333</td>\n",
              "      <td>14.217333</td>\n",
              "      <td>14.858000</td>\n",
              "      <td>71466000</td>\n",
              "    </tr>\n",
              "    <tr>\n",
              "      <th>2015-01-05</th>\n",
              "      <td>14.006000</td>\n",
              "      <td>14.433333</td>\n",
              "      <td>13.810667</td>\n",
              "      <td>14.303333</td>\n",
              "      <td>80527500</td>\n",
              "    </tr>\n",
              "  </tbody>\n",
              "</table>\n",
              "</div>"
            ],
            "text/plain": [
              "Price           Close       High        Low       Open    Volume\n",
              "Ticker           TSLA       TSLA       TSLA       TSLA      TSLA\n",
              "Date                                                            \n",
              "2015-01-02  14.620667  14.883333  14.217333  14.858000  71466000\n",
              "2015-01-05  14.006000  14.433333  13.810667  14.303333  80527500"
            ]
          },
          "metadata": {},
          "output_type": "display_data"
        },
        {
          "name": "stdout",
          "output_type": "stream",
          "text": [
            "\n",
            "BND data:\n"
          ]
        },
        {
          "data": {
            "text/html": [
              "<div>\n",
              "<style scoped>\n",
              "    .dataframe tbody tr th:only-of-type {\n",
              "        vertical-align: middle;\n",
              "    }\n",
              "\n",
              "    .dataframe tbody tr th {\n",
              "        vertical-align: top;\n",
              "    }\n",
              "\n",
              "    .dataframe thead tr th {\n",
              "        text-align: left;\n",
              "    }\n",
              "\n",
              "    .dataframe thead tr:last-of-type th {\n",
              "        text-align: right;\n",
              "    }\n",
              "</style>\n",
              "<table border=\"1\" class=\"dataframe\">\n",
              "  <thead>\n",
              "    <tr>\n",
              "      <th>Price</th>\n",
              "      <th>Close</th>\n",
              "      <th>High</th>\n",
              "      <th>Low</th>\n",
              "      <th>Open</th>\n",
              "      <th>Volume</th>\n",
              "    </tr>\n",
              "    <tr>\n",
              "      <th>Ticker</th>\n",
              "      <th>BND</th>\n",
              "      <th>BND</th>\n",
              "      <th>BND</th>\n",
              "      <th>BND</th>\n",
              "      <th>BND</th>\n",
              "    </tr>\n",
              "    <tr>\n",
              "      <th>Date</th>\n",
              "      <th></th>\n",
              "      <th></th>\n",
              "      <th></th>\n",
              "      <th></th>\n",
              "      <th></th>\n",
              "    </tr>\n",
              "  </thead>\n",
              "  <tbody>\n",
              "    <tr>\n",
              "      <th>2015-01-02</th>\n",
              "      <td>62.573120</td>\n",
              "      <td>62.603404</td>\n",
              "      <td>62.398988</td>\n",
              "      <td>62.406560</td>\n",
              "      <td>2218800</td>\n",
              "    </tr>\n",
              "    <tr>\n",
              "      <th>2015-01-05</th>\n",
              "      <td>62.754833</td>\n",
              "      <td>62.777545</td>\n",
              "      <td>62.610985</td>\n",
              "      <td>62.641269</td>\n",
              "      <td>5820100</td>\n",
              "    </tr>\n",
              "  </tbody>\n",
              "</table>\n",
              "</div>"
            ],
            "text/plain": [
              "Price           Close       High        Low       Open   Volume\n",
              "Ticker            BND        BND        BND        BND      BND\n",
              "Date                                                           \n",
              "2015-01-02  62.573120  62.603404  62.398988  62.406560  2218800\n",
              "2015-01-05  62.754833  62.777545  62.610985  62.641269  5820100"
            ]
          },
          "metadata": {},
          "output_type": "display_data"
        },
        {
          "name": "stdout",
          "output_type": "stream",
          "text": [
            "\n",
            "SPY data:\n"
          ]
        },
        {
          "data": {
            "text/html": [
              "<div>\n",
              "<style scoped>\n",
              "    .dataframe tbody tr th:only-of-type {\n",
              "        vertical-align: middle;\n",
              "    }\n",
              "\n",
              "    .dataframe tbody tr th {\n",
              "        vertical-align: top;\n",
              "    }\n",
              "\n",
              "    .dataframe thead tr th {\n",
              "        text-align: left;\n",
              "    }\n",
              "\n",
              "    .dataframe thead tr:last-of-type th {\n",
              "        text-align: right;\n",
              "    }\n",
              "</style>\n",
              "<table border=\"1\" class=\"dataframe\">\n",
              "  <thead>\n",
              "    <tr>\n",
              "      <th>Price</th>\n",
              "      <th>Close</th>\n",
              "      <th>High</th>\n",
              "      <th>Low</th>\n",
              "      <th>Open</th>\n",
              "      <th>Volume</th>\n",
              "    </tr>\n",
              "    <tr>\n",
              "      <th>Ticker</th>\n",
              "      <th>SPY</th>\n",
              "      <th>SPY</th>\n",
              "      <th>SPY</th>\n",
              "      <th>SPY</th>\n",
              "      <th>SPY</th>\n",
              "    </tr>\n",
              "    <tr>\n",
              "      <th>Date</th>\n",
              "      <th></th>\n",
              "      <th></th>\n",
              "      <th></th>\n",
              "      <th></th>\n",
              "      <th></th>\n",
              "    </tr>\n",
              "  </thead>\n",
              "  <tbody>\n",
              "    <tr>\n",
              "      <th>2015-01-02</th>\n",
              "      <td>172.592865</td>\n",
              "      <td>173.811099</td>\n",
              "      <td>171.542672</td>\n",
              "      <td>173.391022</td>\n",
              "      <td>121465900</td>\n",
              "    </tr>\n",
              "    <tr>\n",
              "      <th>2015-01-05</th>\n",
              "      <td>169.475876</td>\n",
              "      <td>171.702279</td>\n",
              "      <td>169.165023</td>\n",
              "      <td>171.534251</td>\n",
              "      <td>169632600</td>\n",
              "    </tr>\n",
              "  </tbody>\n",
              "</table>\n",
              "</div>"
            ],
            "text/plain": [
              "Price            Close        High         Low        Open     Volume\n",
              "Ticker             SPY         SPY         SPY         SPY        SPY\n",
              "Date                                                                 \n",
              "2015-01-02  172.592865  173.811099  171.542672  173.391022  121465900\n",
              "2015-01-05  169.475876  171.702279  169.165023  171.534251  169632600"
            ]
          },
          "metadata": {},
          "output_type": "display_data"
        }
      ],
      "source": [
        "for ticker, df in processor.data.items():\n",
        "    print(f\"\\n{ticker} data:\")\n",
        "    display(df.head(2))"
      ]
    },
    {
      "cell_type": "markdown",
      "metadata": {},
      "source": [
        "## <font color = '#DF9166' size=6>**Data Inspection**<font/><a class = 'anchor' id = 'data_inspection'/>"
      ]
    },
    {
      "cell_type": "code",
      "execution_count": 30,
      "metadata": {},
      "outputs": [
        {
          "name": "stdout",
          "output_type": "stream",
          "text": [
            "\n",
            "TSLA data:\n",
            "<class 'pandas.core.frame.DataFrame'>\n",
            "DatetimeIndex: 2535 entries, 2015-01-02 to 2025-01-30\n",
            "Data columns (total 5 columns):\n",
            " #   Column          Non-Null Count  Dtype  \n",
            "---  ------          --------------  -----  \n",
            " 0   (Close, TSLA)   2535 non-null   float64\n",
            " 1   (High, TSLA)    2535 non-null   float64\n",
            " 2   (Low, TSLA)     2535 non-null   float64\n",
            " 3   (Open, TSLA)    2535 non-null   float64\n",
            " 4   (Volume, TSLA)  2535 non-null   int64  \n",
            "dtypes: float64(4), int64(1)\n",
            "memory usage: 118.8 KB\n"
          ]
        },
        {
          "data": {
            "text/plain": [
              "None"
            ]
          },
          "metadata": {},
          "output_type": "display_data"
        },
        {
          "name": "stdout",
          "output_type": "stream",
          "text": [
            "\n",
            "BND data:\n",
            "<class 'pandas.core.frame.DataFrame'>\n",
            "DatetimeIndex: 2535 entries, 2015-01-02 to 2025-01-30\n",
            "Data columns (total 5 columns):\n",
            " #   Column         Non-Null Count  Dtype  \n",
            "---  ------         --------------  -----  \n",
            " 0   (Close, BND)   2535 non-null   float64\n",
            " 1   (High, BND)    2535 non-null   float64\n",
            " 2   (Low, BND)     2535 non-null   float64\n",
            " 3   (Open, BND)    2535 non-null   float64\n",
            " 4   (Volume, BND)  2535 non-null   int64  \n",
            "dtypes: float64(4), int64(1)\n",
            "memory usage: 118.8 KB\n"
          ]
        },
        {
          "data": {
            "text/plain": [
              "None"
            ]
          },
          "metadata": {},
          "output_type": "display_data"
        },
        {
          "name": "stdout",
          "output_type": "stream",
          "text": [
            "\n",
            "SPY data:\n",
            "<class 'pandas.core.frame.DataFrame'>\n",
            "DatetimeIndex: 2535 entries, 2015-01-02 to 2025-01-30\n",
            "Data columns (total 5 columns):\n",
            " #   Column         Non-Null Count  Dtype  \n",
            "---  ------         --------------  -----  \n",
            " 0   (Close, SPY)   2535 non-null   float64\n",
            " 1   (High, SPY)    2535 non-null   float64\n",
            " 2   (Low, SPY)     2535 non-null   float64\n",
            " 3   (Open, SPY)    2535 non-null   float64\n",
            " 4   (Volume, SPY)  2535 non-null   int64  \n",
            "dtypes: float64(4), int64(1)\n",
            "memory usage: 118.8 KB\n"
          ]
        },
        {
          "data": {
            "text/plain": [
              "None"
            ]
          },
          "metadata": {},
          "output_type": "display_data"
        }
      ],
      "source": [
        "for ticker, df in processor.data.items():\n",
        "    print(f\"\\n{ticker} data:\")\n",
        "    display(df.info())"
      ]
    },
    {
      "cell_type": "code",
      "execution_count": 31,
      "metadata": {},
      "outputs": [
        {
          "name": "stdout",
          "output_type": "stream",
          "text": [
            "Generating basic statistics...\n",
            "\n",
            "Statistics for TSLA:\n"
          ]
        },
        {
          "data": {
            "text/html": [
              "<div>\n",
              "<style scoped>\n",
              "    .dataframe tbody tr th:only-of-type {\n",
              "        vertical-align: middle;\n",
              "    }\n",
              "\n",
              "    .dataframe tbody tr th {\n",
              "        vertical-align: top;\n",
              "    }\n",
              "\n",
              "    .dataframe thead tr th {\n",
              "        text-align: left;\n",
              "    }\n",
              "</style>\n",
              "<table border=\"1\" class=\"dataframe\">\n",
              "  <thead>\n",
              "    <tr>\n",
              "      <th>Price</th>\n",
              "      <th>Close</th>\n",
              "      <th>High</th>\n",
              "      <th>Low</th>\n",
              "      <th>Open</th>\n",
              "      <th>Volume</th>\n",
              "    </tr>\n",
              "    <tr>\n",
              "      <th>Ticker</th>\n",
              "      <th>TSLA</th>\n",
              "      <th>TSLA</th>\n",
              "      <th>TSLA</th>\n",
              "      <th>TSLA</th>\n",
              "      <th>TSLA</th>\n",
              "    </tr>\n",
              "  </thead>\n",
              "  <tbody>\n",
              "    <tr>\n",
              "      <th>count</th>\n",
              "      <td>2535.000000</td>\n",
              "      <td>2535.000000</td>\n",
              "      <td>2535.000000</td>\n",
              "      <td>2535.000000</td>\n",
              "      <td>2.535000e+03</td>\n",
              "    </tr>\n",
              "    <tr>\n",
              "      <th>mean</th>\n",
              "      <td>117.848209</td>\n",
              "      <td>120.474827</td>\n",
              "      <td>115.097514</td>\n",
              "      <td>117.877662</td>\n",
              "      <td>1.120308e+08</td>\n",
              "    </tr>\n",
              "    <tr>\n",
              "      <th>std</th>\n",
              "      <td>116.508288</td>\n",
              "      <td>119.236025</td>\n",
              "      <td>113.698930</td>\n",
              "      <td>116.611575</td>\n",
              "      <td>7.387509e+07</td>\n",
              "    </tr>\n",
              "    <tr>\n",
              "      <th>min</th>\n",
              "      <td>9.578000</td>\n",
              "      <td>10.331333</td>\n",
              "      <td>9.403333</td>\n",
              "      <td>9.488000</td>\n",
              "      <td>1.062000e+07</td>\n",
              "    </tr>\n",
              "    <tr>\n",
              "      <th>25%</th>\n",
              "      <td>17.228000</td>\n",
              "      <td>17.527667</td>\n",
              "      <td>16.942000</td>\n",
              "      <td>17.259334</td>\n",
              "      <td>6.680295e+07</td>\n",
              "    </tr>\n",
              "    <tr>\n",
              "      <th>50%</th>\n",
              "      <td>30.298000</td>\n",
              "      <td>32.329334</td>\n",
              "      <td>29.760000</td>\n",
              "      <td>31.299999</td>\n",
              "      <td>9.264180e+07</td>\n",
              "    </tr>\n",
              "    <tr>\n",
              "      <th>75%</th>\n",
              "      <td>221.525002</td>\n",
              "      <td>226.696671</td>\n",
              "      <td>217.061661</td>\n",
              "      <td>222.653336</td>\n",
              "      <td>1.294283e+08</td>\n",
              "    </tr>\n",
              "    <tr>\n",
              "      <th>max</th>\n",
              "      <td>479.859985</td>\n",
              "      <td>488.540009</td>\n",
              "      <td>457.510010</td>\n",
              "      <td>475.899994</td>\n",
              "      <td>9.140820e+08</td>\n",
              "    </tr>\n",
              "  </tbody>\n",
              "</table>\n",
              "</div>"
            ],
            "text/plain": [
              "Price         Close         High          Low         Open        Volume\n",
              "Ticker         TSLA         TSLA         TSLA         TSLA          TSLA\n",
              "count   2535.000000  2535.000000  2535.000000  2535.000000  2.535000e+03\n",
              "mean     117.848209   120.474827   115.097514   117.877662  1.120308e+08\n",
              "std      116.508288   119.236025   113.698930   116.611575  7.387509e+07\n",
              "min        9.578000    10.331333     9.403333     9.488000  1.062000e+07\n",
              "25%       17.228000    17.527667    16.942000    17.259334  6.680295e+07\n",
              "50%       30.298000    32.329334    29.760000    31.299999  9.264180e+07\n",
              "75%      221.525002   226.696671   217.061661   222.653336  1.294283e+08\n",
              "max      479.859985   488.540009   457.510010   475.899994  9.140820e+08"
            ]
          },
          "metadata": {},
          "output_type": "display_data"
        },
        {
          "name": "stdout",
          "output_type": "stream",
          "text": [
            "\n",
            "Statistics for BND:\n"
          ]
        },
        {
          "data": {
            "text/html": [
              "<div>\n",
              "<style scoped>\n",
              "    .dataframe tbody tr th:only-of-type {\n",
              "        vertical-align: middle;\n",
              "    }\n",
              "\n",
              "    .dataframe tbody tr th {\n",
              "        vertical-align: top;\n",
              "    }\n",
              "\n",
              "    .dataframe thead tr th {\n",
              "        text-align: left;\n",
              "    }\n",
              "</style>\n",
              "<table border=\"1\" class=\"dataframe\">\n",
              "  <thead>\n",
              "    <tr>\n",
              "      <th>Price</th>\n",
              "      <th>Close</th>\n",
              "      <th>High</th>\n",
              "      <th>Low</th>\n",
              "      <th>Open</th>\n",
              "      <th>Volume</th>\n",
              "    </tr>\n",
              "    <tr>\n",
              "      <th>Ticker</th>\n",
              "      <th>BND</th>\n",
              "      <th>BND</th>\n",
              "      <th>BND</th>\n",
              "      <th>BND</th>\n",
              "      <th>BND</th>\n",
              "    </tr>\n",
              "  </thead>\n",
              "  <tbody>\n",
              "    <tr>\n",
              "      <th>count</th>\n",
              "      <td>2535.000000</td>\n",
              "      <td>2535.000000</td>\n",
              "      <td>2535.000000</td>\n",
              "      <td>2535.000000</td>\n",
              "      <td>2.535000e+03</td>\n",
              "    </tr>\n",
              "    <tr>\n",
              "      <th>mean</th>\n",
              "      <td>69.289452</td>\n",
              "      <td>69.391261</td>\n",
              "      <td>69.186012</td>\n",
              "      <td>69.293225</td>\n",
              "      <td>4.233200e+06</td>\n",
              "    </tr>\n",
              "    <tr>\n",
              "      <th>std</th>\n",
              "      <td>4.792145</td>\n",
              "      <td>4.800408</td>\n",
              "      <td>4.782141</td>\n",
              "      <td>4.793199</td>\n",
              "      <td>2.796083e+06</td>\n",
              "    </tr>\n",
              "    <tr>\n",
              "      <th>min</th>\n",
              "      <td>61.860889</td>\n",
              "      <td>61.937361</td>\n",
              "      <td>61.822651</td>\n",
              "      <td>61.891484</td>\n",
              "      <td>0.000000e+00</td>\n",
              "    </tr>\n",
              "    <tr>\n",
              "      <th>25%</th>\n",
              "      <td>65.565277</td>\n",
              "      <td>65.630169</td>\n",
              "      <td>65.475488</td>\n",
              "      <td>65.552735</td>\n",
              "      <td>2.057700e+06</td>\n",
              "    </tr>\n",
              "    <tr>\n",
              "      <th>50%</th>\n",
              "      <td>68.329132</td>\n",
              "      <td>68.457854</td>\n",
              "      <td>68.169747</td>\n",
              "      <td>68.310226</td>\n",
              "      <td>3.805800e+06</td>\n",
              "    </tr>\n",
              "    <tr>\n",
              "      <th>75%</th>\n",
              "      <td>72.879940</td>\n",
              "      <td>72.946428</td>\n",
              "      <td>72.728798</td>\n",
              "      <td>72.845716</td>\n",
              "      <td>5.626700e+06</td>\n",
              "    </tr>\n",
              "    <tr>\n",
              "      <th>max</th>\n",
              "      <td>78.823280</td>\n",
              "      <td>78.920142</td>\n",
              "      <td>78.788043</td>\n",
              "      <td>78.884912</td>\n",
              "      <td>3.193720e+07</td>\n",
              "    </tr>\n",
              "  </tbody>\n",
              "</table>\n",
              "</div>"
            ],
            "text/plain": [
              "Price         Close         High          Low         Open        Volume\n",
              "Ticker          BND          BND          BND          BND           BND\n",
              "count   2535.000000  2535.000000  2535.000000  2535.000000  2.535000e+03\n",
              "mean      69.289452    69.391261    69.186012    69.293225  4.233200e+06\n",
              "std        4.792145     4.800408     4.782141     4.793199  2.796083e+06\n",
              "min       61.860889    61.937361    61.822651    61.891484  0.000000e+00\n",
              "25%       65.565277    65.630169    65.475488    65.552735  2.057700e+06\n",
              "50%       68.329132    68.457854    68.169747    68.310226  3.805800e+06\n",
              "75%       72.879940    72.946428    72.728798    72.845716  5.626700e+06\n",
              "max       78.823280    78.920142    78.788043    78.884912  3.193720e+07"
            ]
          },
          "metadata": {},
          "output_type": "display_data"
        },
        {
          "name": "stdout",
          "output_type": "stream",
          "text": [
            "\n",
            "Statistics for SPY:\n"
          ]
        },
        {
          "data": {
            "text/html": [
              "<div>\n",
              "<style scoped>\n",
              "    .dataframe tbody tr th:only-of-type {\n",
              "        vertical-align: middle;\n",
              "    }\n",
              "\n",
              "    .dataframe tbody tr th {\n",
              "        vertical-align: top;\n",
              "    }\n",
              "\n",
              "    .dataframe thead tr th {\n",
              "        text-align: left;\n",
              "    }\n",
              "</style>\n",
              "<table border=\"1\" class=\"dataframe\">\n",
              "  <thead>\n",
              "    <tr>\n",
              "      <th>Price</th>\n",
              "      <th>Close</th>\n",
              "      <th>High</th>\n",
              "      <th>Low</th>\n",
              "      <th>Open</th>\n",
              "      <th>Volume</th>\n",
              "    </tr>\n",
              "    <tr>\n",
              "      <th>Ticker</th>\n",
              "      <th>SPY</th>\n",
              "      <th>SPY</th>\n",
              "      <th>SPY</th>\n",
              "      <th>SPY</th>\n",
              "      <th>SPY</th>\n",
              "    </tr>\n",
              "  </thead>\n",
              "  <tbody>\n",
              "    <tr>\n",
              "      <th>count</th>\n",
              "      <td>2535.000000</td>\n",
              "      <td>2535.000000</td>\n",
              "      <td>2535.000000</td>\n",
              "      <td>2535.000000</td>\n",
              "      <td>2.535000e+03</td>\n",
              "    </tr>\n",
              "    <tr>\n",
              "      <th>mean</th>\n",
              "      <td>316.067402</td>\n",
              "      <td>317.725660</td>\n",
              "      <td>314.157889</td>\n",
              "      <td>316.021385</td>\n",
              "      <td>8.714655e+07</td>\n",
              "    </tr>\n",
              "    <tr>\n",
              "      <th>std</th>\n",
              "      <td>117.926910</td>\n",
              "      <td>118.486410</td>\n",
              "      <td>117.269902</td>\n",
              "      <td>117.921618</td>\n",
              "      <td>4.487253e+07</td>\n",
              "    </tr>\n",
              "    <tr>\n",
              "      <th>min</th>\n",
              "      <td>156.800873</td>\n",
              "      <td>157.864167</td>\n",
              "      <td>154.676912</td>\n",
              "      <td>156.354974</td>\n",
              "      <td>2.027000e+07</td>\n",
              "    </tr>\n",
              "    <tr>\n",
              "      <th>25%</th>\n",
              "      <td>214.841972</td>\n",
              "      <td>215.702253</td>\n",
              "      <td>214.206923</td>\n",
              "      <td>214.972477</td>\n",
              "      <td>5.862005e+07</td>\n",
              "    </tr>\n",
              "    <tr>\n",
              "      <th>50%</th>\n",
              "      <td>277.117920</td>\n",
              "      <td>277.919519</td>\n",
              "      <td>276.073612</td>\n",
              "      <td>277.230750</td>\n",
              "      <td>7.642870e+07</td>\n",
              "    </tr>\n",
              "    <tr>\n",
              "      <th>75%</th>\n",
              "      <td>405.869156</td>\n",
              "      <td>409.134294</td>\n",
              "      <td>402.830858</td>\n",
              "      <td>406.100271</td>\n",
              "      <td>1.018866e+08</td>\n",
              "    </tr>\n",
              "    <tr>\n",
              "      <th>max</th>\n",
              "      <td>609.750000</td>\n",
              "      <td>610.780029</td>\n",
              "      <td>606.799988</td>\n",
              "      <td>609.809998</td>\n",
              "      <td>5.072443e+08</td>\n",
              "    </tr>\n",
              "  </tbody>\n",
              "</table>\n",
              "</div>"
            ],
            "text/plain": [
              "Price         Close         High          Low         Open        Volume\n",
              "Ticker          SPY          SPY          SPY          SPY           SPY\n",
              "count   2535.000000  2535.000000  2535.000000  2535.000000  2.535000e+03\n",
              "mean     316.067402   317.725660   314.157889   316.021385  8.714655e+07\n",
              "std      117.926910   118.486410   117.269902   117.921618  4.487253e+07\n",
              "min      156.800873   157.864167   154.676912   156.354974  2.027000e+07\n",
              "25%      214.841972   215.702253   214.206923   214.972477  5.862005e+07\n",
              "50%      277.117920   277.919519   276.073612   277.230750  7.642870e+07\n",
              "75%      405.869156   409.134294   402.830858   406.100271  1.018866e+08\n",
              "max      609.750000   610.780029   606.799988   609.809998  5.072443e+08"
            ]
          },
          "metadata": {},
          "output_type": "display_data"
        }
      ],
      "source": [
        "processor.basic_statistics()"
      ]
    },
    {
      "cell_type": "code",
      "execution_count": 32,
      "metadata": {},
      "outputs": [
        {
          "name": "stdout",
          "output_type": "stream",
          "text": [
            "Checking for missing values...\n",
            "TSLA has no missing values.\n",
            "BND has no missing values.\n",
            "SPY has no missing values.\n"
          ]
        }
      ],
      "source": [
        "# Step 3: Understand the data\n",
        "processor.check_missing_values()"
      ]
    },
    {
      "cell_type": "markdown",
      "metadata": {},
      "source": [
        "## <font color = '#DF9166' size=6>**Data Preprocessing**<font/><a class = 'anchor' id = 'data_preprocessing'/>"
      ]
    },
    {
      "cell_type": "code",
      "execution_count": null,
      "metadata": {},
      "outputs": [],
      "source": [
        "# processor.handle_missing_values(method='interpolate')"
      ]
    },
    {
      "cell_type": "code",
      "execution_count": 34,
      "metadata": {},
      "outputs": [
        {
          "name": "stdout",
          "output_type": "stream",
          "text": [
            "Saving data to files...\n",
            "Data for TSLA saved to ../data/raw/TSLA.csv.\n",
            "Data for BND saved to ../data/raw/BND.csv.\n",
            "Data for SPY saved to ../data/raw/SPY.csv.\n"
          ]
        }
      ],
      "source": [
        "# save raw data\n",
        "processor.save_cleaned_data(\"../data/raw/\")"
      ]
    },
    {
      "cell_type": "code",
      "execution_count": 35,
      "metadata": {},
      "outputs": [
        {
          "name": "stdout",
          "output_type": "stream",
          "text": [
            "Normalizing data using Min-Max scaling...\n",
            "Data normalization complete.\n"
          ]
        }
      ],
      "source": [
        "processor.normalize_data()"
      ]
    },
    {
      "cell_type": "code",
      "execution_count": 36,
      "metadata": {},
      "outputs": [
        {
          "name": "stdout",
          "output_type": "stream",
          "text": [
            "Saving data to files...\n",
            "Data for TSLA saved to ../data/processed/TSLA.csv.\n",
            "Data for BND saved to ../data/processed/BND.csv.\n",
            "Data for SPY saved to ../data/processed/SPY.csv.\n"
          ]
        }
      ],
      "source": [
        "# Save processed data\n",
        "processor.save_cleaned_data(\"../data/processed/\")"
      ]
    }
  ],
  "metadata": {
    "colab": {
      "provenance": []
    },
    "kernelspec": {
      "display_name": "w8-env",
      "language": "python",
      "name": "python3"
    },
    "language_info": {
      "codemirror_mode": {
        "name": "ipython",
        "version": 3
      },
      "file_extension": ".py",
      "mimetype": "text/x-python",
      "name": "python",
      "nbconvert_exporter": "python",
      "pygments_lexer": "ipython3",
      "version": "3.10.16"
    }
  },
  "nbformat": 4,
  "nbformat_minor": 0
}
